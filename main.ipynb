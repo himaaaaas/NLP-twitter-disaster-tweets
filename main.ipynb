{
 "cells": [
  {
   "cell_type": "code",
   "execution_count": 2,
   "id": "b2c5c8c5",
   "metadata": {},
   "outputs": [],
   "source": [
    "import numpy as np\n",
    "import matplotlib.pyplot as plt\n",
    "import pandas as pd\n",
    "from sklearn import feature_extraction,model_selection,preprocessing\n"
   ]
  },
  {
   "cell_type": "code",
   "execution_count": 3,
   "id": "b94e82a0",
   "metadata": {},
   "outputs": [],
   "source": [
    "train_df=pd.read_csv('train.csv')\n",
    "test_df=pd.read_csv('test.csv')"
   ]
  },
  {
   "cell_type": "code",
   "execution_count": 6,
   "id": "2863ae64",
   "metadata": {},
   "outputs": [
    {
     "data": {
      "text/plain": [
       "'Our Deeds are the Reason of this #earthquake May ALLAH Forgive us all'"
      ]
     },
     "execution_count": 6,
     "metadata": {},
     "output_type": "execute_result"
    }
   ],
   "source": [
    "train_df['text'][0]"
   ]
  },
  {
   "cell_type": "code",
   "execution_count": 22,
   "id": "ece78223",
   "metadata": {},
   "outputs": [],
   "source": [
    "import nltk\n",
    "from nltk.corpus import stopwords,wordnet\n",
    "from nltk.tokenize import word_tokenize"
   ]
  },
  {
   "cell_type": "code",
   "execution_count": 24,
   "id": "d062d348",
   "metadata": {},
   "outputs": [],
   "source": [
    "from nltk.stem.porter import PorterStemmer\n",
    "stemmer=PorterStemmer()\n",
    "stop_words=set(stopwords.words('english'))\n",
    "stop_words=stop_words.remove('not')\n"
   ]
  },
  {
   "cell_type": "code",
   "execution_count": 25,
   "id": "f5b69322",
   "metadata": {},
   "outputs": [
    {
     "name": "stdout",
     "output_type": "stream",
     "text": [
      "#flood #disaster Heavy rain causes flash flooding of streets in Manitou, Colorado Springs areas\n",
      "flood disaster Heavy rain causes flash flooding of streets in Manitou Colorado Springs areas\n"
     ]
    }
   ],
   "source": [
    "import regex as re\n",
    "text=re.sub(r'[^a-zA-Z\\s]', '', train_df['text'][6])\n",
    "print(train_df['text'][6])\n",
    "print(text)"
   ]
  },
  {
   "cell_type": "code",
   "execution_count": 61,
   "id": "51ab6ff9",
   "metadata": {},
   "outputs": [],
   "source": [
    "import re\n",
    "from nltk.corpus import stopwords\n",
    "from nltk.stem.porter import PorterStemmer\n",
    "from nltk.tokenize import word_tokenize\n",
    "\n",
    "stemmer = PorterStemmer()\n",
    "stop_words = set(stopwords.words('english'))\n",
    "if 'not' in stop_words:  \n",
    "    stop_words.remove('not')\n",
    "\n",
    "def preprocess(x):\n",
    "    corpus = []\n",
    "    for t in x:\n",
    "        t = re.sub(r'[^a-zA-Z\\s]', '', t)\n",
    "        t = t.lower()\n",
    "        tokens = word_tokenize(t)\n",
    "        filtered_tokens = [stemmer.stem(token) for token in tokens if token not in stop_words]\n",
    "        corpus.append(\" \".join(filtered_tokens))\n",
    "    return corpus   \n",
    "        "
   ]
  },
  {
   "cell_type": "code",
   "execution_count": 62,
   "id": "a4ce4f36",
   "metadata": {},
   "outputs": [],
   "source": [
    "train_df['clean_text']=preprocess(train_df['text'].values)"
   ]
  },
  {
   "cell_type": "code",
   "execution_count": 63,
   "id": "df3c4687",
   "metadata": {},
   "outputs": [],
   "source": [
    "test_df['clean_text']=preprocess(test_df['text'].values)"
   ]
  },
  {
   "cell_type": "code",
   "execution_count": 67,
   "id": "36903023",
   "metadata": {},
   "outputs": [
    {
     "data": {
      "text/plain": [
       "<bound method NDFrame.head of 0               deed reason earthquak may allah forgiv us\n",
       "1                    forest fire near la rong sask canada\n",
       "2       resid ask shelter place notifi offic evacu she...\n",
       "3             peopl receiv wildfir evacu order california\n",
       "4       got sent photo rubi alaska smoke wildfir pour ...\n",
       "                              ...                        \n",
       "7608    two giant crane hold bridg collaps nearbi home...\n",
       "7609    ariaahrari thetawniest control wild fire calif...\n",
       "7610                utckm volcano hawaii httptcozdtoydebj\n",
       "7611    polic investig ebik collid car littl portug eb...\n",
       "7612    latest home raze northern california wildfir a...\n",
       "Name: clean_text, Length: 7613, dtype: object>"
      ]
     },
     "execution_count": 67,
     "metadata": {},
     "output_type": "execute_result"
    }
   ],
   "source": [
    "train_df['clean_text'].head"
   ]
  },
  {
   "cell_type": "code",
   "execution_count": 68,
   "id": "abc23b21",
   "metadata": {},
   "outputs": [],
   "source": [
    "from sklearn.feature_extraction.text import TfidfVectorizer\n",
    "vectorizer = TfidfVectorizer(max_features=500)  \n",
    "X = vectorizer.fit_transform(train_df[\"clean_text\"]).toarray()\n",
    "y = train_df[\"target\"]"
   ]
  },
  {
   "cell_type": "code",
   "execution_count": 69,
   "id": "72b7cec4",
   "metadata": {},
   "outputs": [],
   "source": [
    "from sklearn.model_selection import train_test_split\n",
    "X_train, X_test, y_train, y_test = train_test_split(X, y, test_size=0.2, random_state=42)"
   ]
  },
  {
   "cell_type": "code",
   "execution_count": 71,
   "id": "fdb863aa",
   "metadata": {},
   "outputs": [
    {
     "name": "stdout",
     "output_type": "stream",
     "text": [
      "Naive Bayes Results:\n",
      "Accuracy: 0.7662508207485227\n",
      "Precision: 0.7707948243992606\n",
      "Recall: 0.6425269645608629\n",
      "F1: 0.7008403361344537\n",
      "\n",
      "Logistic Regression Results:\n",
      "Accuracy: 0.7767564018384767\n",
      "Precision: 0.768695652173913\n",
      "Recall: 0.6810477657935285\n",
      "F1: 0.7222222222222222\n",
      "\n",
      "SVM Results:\n",
      "Accuracy: 0.778069599474721\n",
      "Precision: 0.7604690117252931\n",
      "Recall: 0.699537750385208\n",
      "F1: 0.7287319422150883\n",
      "\n"
     ]
    }
   ],
   "source": [
    "from sklearn.naive_bayes import MultinomialNB\n",
    "from sklearn.linear_model import LogisticRegression\n",
    "from sklearn.svm import LinearSVC\n",
    "from sklearn.metrics import accuracy_score, precision_score, recall_score, f1_score\n",
    "models = {\n",
    "    \"Naive Bayes\": MultinomialNB(),\n",
    "    \"Logistic Regression\": LogisticRegression(max_iter=1000),\n",
    "    \"SVM\": LinearSVC()\n",
    "}\n",
    "\n",
    "for name, model in models.items():\n",
    "    model.fit(X_train, y_train)\n",
    "    preds = model.predict(X_test)\n",
    "    print(f\"{name} Results:\")\n",
    "    print(\"Accuracy:\", accuracy_score(y_test, preds))\n",
    "    print(\"Precision:\", precision_score(y_test, preds))\n",
    "    print(\"Recall:\", recall_score(y_test, preds))\n",
    "    print(\"F1:\", f1_score(y_test, preds))\n",
    "    print()"
   ]
  },
  {
   "cell_type": "code",
   "execution_count": 73,
   "id": "56696f07",
   "metadata": {},
   "outputs": [
    {
     "name": "stdout",
     "output_type": "stream",
     "text": [
      "              precision    recall  f1-score   support\n",
      "\n",
      "           0       0.76      0.86      0.81       874\n",
      "           1       0.77      0.64      0.70       649\n",
      "\n",
      "    accuracy                           0.77      1523\n",
      "   macro avg       0.77      0.75      0.75      1523\n",
      "weighted avg       0.77      0.77      0.76      1523\n",
      "\n",
      "Confusion Matrix:\n",
      " [[750 124]\n",
      " [232 417]]\n"
     ]
    }
   ],
   "source": [
    "from sklearn.metrics import classification_report, confusion_matrix\n",
    "best_model = MultinomialNB().fit(X_train, y_train)\n",
    "y_pred = best_model.predict(X_test)\n",
    "\n",
    "print(classification_report(y_test, y_pred))\n",
    "print(\"Confusion Matrix:\\n\", confusion_matrix(y_test, y_pred))"
   ]
  },
  {
   "cell_type": "code",
   "execution_count": null,
   "id": "7bd7fc35",
   "metadata": {},
   "outputs": [],
   "source": []
  }
 ],
 "metadata": {
  "kernelspec": {
   "display_name": "base",
   "language": "python",
   "name": "python3"
  },
  "language_info": {
   "codemirror_mode": {
    "name": "ipython",
    "version": 3
   },
   "file_extension": ".py",
   "mimetype": "text/x-python",
   "name": "python",
   "nbconvert_exporter": "python",
   "pygments_lexer": "ipython3",
   "version": "3.12.4"
  }
 },
 "nbformat": 4,
 "nbformat_minor": 5
}
